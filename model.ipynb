{
 "cells": [
  {
   "cell_type": "markdown",
   "metadata": {},
   "source": [
    "### Package Import"
   ]
  },
  {
   "cell_type": "code",
   "execution_count": 1,
   "metadata": {},
   "outputs": [],
   "source": [
    "import requests\n",
    "import time\n",
    "import datetime\n",
    "import numpy as np\n",
    "import pandas as pd\n",
    "import matplotlib.pyplot as plt\n",
    "import seaborn as sns\n",
    "import regex\n",
    "from sklearn.feature_extraction.text import CountVectorizer, TfidfVectorizer\n",
    "from sklearn.model_selection import train_test_split, GridSearchCV\n",
    "from sklearn.pipeline import Pipeline\n",
    "from sklearn.linear_model import LogisticRegression\n",
    "from sklearn.naive_bayes import MultinomialNB\n",
    "from sklearn.metrics import confusion_matrix, roc_curve, auc\n",
    "\n",
    "%matplotlib inline"
   ]
  },
  {
   "cell_type": "markdown",
   "metadata": {},
   "source": [
    "### Data Import and Cleaning"
   ]
  },
  {
   "cell_type": "code",
   "execution_count": 2,
   "metadata": {},
   "outputs": [],
   "source": [
    "df = pd.read_csv('linguistics and languagelearning_2019-04-07 10:32:14.262909')"
   ]
  },
  {
   "cell_type": "code",
   "execution_count": 3,
   "metadata": {
    "scrolled": true
   },
   "outputs": [
    {
     "data": {
      "text/plain": [
       "Index(['Unnamed: 0', 'author', 'author_cakeday',\n",
       "       'author_flair_background_color', 'author_flair_css_class',\n",
       "       'author_flair_richtext', 'author_flair_template_id',\n",
       "       'author_flair_text', 'author_flair_text_color', 'author_flair_type',\n",
       "       'author_fullname', 'author_patreon_flair', 'banned_by', 'can_mod_post',\n",
       "       'contest_mode', 'created_utc', 'crosspost_parent',\n",
       "       'crosspost_parent_list', 'domain', 'full_link', 'gilded', 'gildings',\n",
       "       'id', 'is_crosspostable', 'is_meta', 'is_original_content',\n",
       "       'is_reddit_media_domain', 'is_robot_indexable', 'is_self', 'is_video',\n",
       "       'link_flair_background_color', 'link_flair_css_class',\n",
       "       'link_flair_richtext', 'link_flair_template_id', 'link_flair_text',\n",
       "       'link_flair_text_color', 'link_flair_type', 'locked', 'media',\n",
       "       'media_embed', 'media_metadata', 'media_only', 'no_follow',\n",
       "       'num_comments', 'num_crossposts', 'over_18', 'parent_whitelist_status',\n",
       "       'permalink', 'pinned', 'post_hint', 'preview', 'pwls', 'retrieved_on',\n",
       "       'score', 'secure_media', 'secure_media_embed', 'selftext',\n",
       "       'send_replies', 'spoiler', 'stickied', 'subreddit', 'subreddit_id',\n",
       "       'subreddit_subscribers', 'subreddit_type', 'suggested_sort',\n",
       "       'thumbnail', 'thumbnail_height', 'thumbnail_width', 'title',\n",
       "       'updated_utc', 'url', 'whitelist_status', 'wls'],\n",
       "      dtype='object')"
      ]
     },
     "execution_count": 3,
     "metadata": {},
     "output_type": "execute_result"
    }
   ],
   "source": [
    "df.columns"
   ]
  },
  {
   "cell_type": "code",
   "execution_count": 4,
   "metadata": {},
   "outputs": [],
   "source": [
    "key_columns= ['author','created_utc','num_comments','permalink',\n",
    "              'score','selftext','subreddit','title'\n",
    "             ]"
   ]
  },
  {
   "cell_type": "code",
   "execution_count": 5,
   "metadata": {},
   "outputs": [],
   "source": [
    "df.drop(df.columns.difference(key_columns), 1, inplace=True)"
   ]
  },
  {
   "cell_type": "code",
   "execution_count": 6,
   "metadata": {
    "scrolled": true
   },
   "outputs": [
    {
     "data": {
      "text/html": [
       "<div>\n",
       "<style scoped>\n",
       "    .dataframe tbody tr th:only-of-type {\n",
       "        vertical-align: middle;\n",
       "    }\n",
       "\n",
       "    .dataframe tbody tr th {\n",
       "        vertical-align: top;\n",
       "    }\n",
       "\n",
       "    .dataframe thead th {\n",
       "        text-align: right;\n",
       "    }\n",
       "</style>\n",
       "<table border=\"1\" class=\"dataframe\">\n",
       "  <thead>\n",
       "    <tr style=\"text-align: right;\">\n",
       "      <th></th>\n",
       "      <th>author</th>\n",
       "      <th>created_utc</th>\n",
       "      <th>num_comments</th>\n",
       "      <th>permalink</th>\n",
       "      <th>score</th>\n",
       "      <th>selftext</th>\n",
       "      <th>subreddit</th>\n",
       "      <th>title</th>\n",
       "    </tr>\n",
       "  </thead>\n",
       "  <tbody>\n",
       "    <tr>\n",
       "      <th>0</th>\n",
       "      <td>omgitsjustturtles</td>\n",
       "      <td>1554641308</td>\n",
       "      <td>0</td>\n",
       "      <td>/r/languagelearning/comments/bafwgj/language_t...</td>\n",
       "      <td>1</td>\n",
       "      <td>Yesterday I was listening to the baseball game...</td>\n",
       "      <td>languagelearning</td>\n",
       "      <td>Language through immersion</td>\n",
       "    </tr>\n",
       "    <tr>\n",
       "      <th>1</th>\n",
       "      <td>Jimral</td>\n",
       "      <td>1554640400</td>\n",
       "      <td>2</td>\n",
       "      <td>/r/languagelearning/comments/bafsh2/hebrew_aud...</td>\n",
       "      <td>1</td>\n",
       "      <td>Any good ones out there?</td>\n",
       "      <td>languagelearning</td>\n",
       "      <td>Hebrew audio coutrse</td>\n",
       "    </tr>\n",
       "    <tr>\n",
       "      <th>2</th>\n",
       "      <td>aadrita__</td>\n",
       "      <td>1554639896</td>\n",
       "      <td>9</td>\n",
       "      <td>/r/languagelearning/comments/bafqcl/name_two_l...</td>\n",
       "      <td>1</td>\n",
       "      <td>I'm just going to start of by apologising in c...</td>\n",
       "      <td>languagelearning</td>\n",
       "      <td>Name two languages that use the same alphabet</td>\n",
       "    </tr>\n",
       "    <tr>\n",
       "      <th>3</th>\n",
       "      <td>redditnojam</td>\n",
       "      <td>1554639696</td>\n",
       "      <td>1</td>\n",
       "      <td>/r/languagelearning/comments/bafpid/korean_wor...</td>\n",
       "      <td>1</td>\n",
       "      <td>https://youtu.be/WenSqRd8kx8\\n\\n\\n1. 망토 (cape)...</td>\n",
       "      <td>languagelearning</td>\n",
       "      <td>Korean words borrowed from French</td>\n",
       "    </tr>\n",
       "    <tr>\n",
       "      <th>4</th>\n",
       "      <td>CherryBlackEyes</td>\n",
       "      <td>1554637024</td>\n",
       "      <td>1</td>\n",
       "      <td>/r/languagelearning/comments/bafec3/dash_or_co...</td>\n",
       "      <td>1</td>\n",
       "      <td>Here is a paragraph in a report which I am wri...</td>\n",
       "      <td>languagelearning</td>\n",
       "      <td>dash or comma?</td>\n",
       "    </tr>\n",
       "  </tbody>\n",
       "</table>\n",
       "</div>"
      ],
      "text/plain": [
       "              author  created_utc  num_comments  \\\n",
       "0  omgitsjustturtles   1554641308             0   \n",
       "1             Jimral   1554640400             2   \n",
       "2          aadrita__   1554639896             9   \n",
       "3        redditnojam   1554639696             1   \n",
       "4    CherryBlackEyes   1554637024             1   \n",
       "\n",
       "                                           permalink  score  \\\n",
       "0  /r/languagelearning/comments/bafwgj/language_t...      1   \n",
       "1  /r/languagelearning/comments/bafsh2/hebrew_aud...      1   \n",
       "2  /r/languagelearning/comments/bafqcl/name_two_l...      1   \n",
       "3  /r/languagelearning/comments/bafpid/korean_wor...      1   \n",
       "4  /r/languagelearning/comments/bafec3/dash_or_co...      1   \n",
       "\n",
       "                                            selftext         subreddit  \\\n",
       "0  Yesterday I was listening to the baseball game...  languagelearning   \n",
       "1                           Any good ones out there?  languagelearning   \n",
       "2  I'm just going to start of by apologising in c...  languagelearning   \n",
       "3  https://youtu.be/WenSqRd8kx8\\n\\n\\n1. 망토 (cape)...  languagelearning   \n",
       "4  Here is a paragraph in a report which I am wri...  languagelearning   \n",
       "\n",
       "                                           title  \n",
       "0                     Language through immersion  \n",
       "1                           Hebrew audio coutrse  \n",
       "2  Name two languages that use the same alphabet  \n",
       "3              Korean words borrowed from French  \n",
       "4                                 dash or comma?  "
      ]
     },
     "execution_count": 6,
     "metadata": {},
     "output_type": "execute_result"
    }
   ],
   "source": [
    "df.head()"
   ]
  },
  {
   "cell_type": "code",
   "execution_count": 7,
   "metadata": {},
   "outputs": [
    {
     "data": {
      "text/plain": [
       "author            0\n",
       "created_utc       0\n",
       "num_comments      0\n",
       "permalink         0\n",
       "score             0\n",
       "selftext        650\n",
       "subreddit         0\n",
       "title             0\n",
       "dtype: int64"
      ]
     },
     "execution_count": 7,
     "metadata": {},
     "output_type": "execute_result"
    }
   ],
   "source": [
    "df.isnull().sum()"
   ]
  },
  {
   "cell_type": "code",
   "execution_count": 8,
   "metadata": {},
   "outputs": [
    {
     "data": {
      "text/plain": [
       "author            0\n",
       "created_utc       0\n",
       "num_comments      0\n",
       "permalink         0\n",
       "score             0\n",
       "selftext        295\n",
       "subreddit         0\n",
       "title             0\n",
       "dtype: int64"
      ]
     },
     "execution_count": 8,
     "metadata": {},
     "output_type": "execute_result"
    }
   ],
   "source": [
    "df[df['subreddit'] == 'linguistics'].isnull().sum()"
   ]
  },
  {
   "cell_type": "code",
   "execution_count": 9,
   "metadata": {},
   "outputs": [
    {
     "data": {
      "text/plain": [
       "author            0\n",
       "created_utc       0\n",
       "num_comments      0\n",
       "permalink         0\n",
       "score             0\n",
       "selftext        355\n",
       "subreddit         0\n",
       "title             0\n",
       "dtype: int64"
      ]
     },
     "execution_count": 9,
     "metadata": {},
     "output_type": "execute_result"
    }
   ],
   "source": [
    "df[df['subreddit'] == 'languagelearning'].isnull().sum()"
   ]
  },
  {
   "cell_type": "code",
   "execution_count": 10,
   "metadata": {},
   "outputs": [],
   "source": [
    "df.dropna(inplace=True)"
   ]
  },
  {
   "cell_type": "code",
   "execution_count": null,
   "metadata": {},
   "outputs": [],
   "source": [
    "df['subreddit'] = df['subreddit'].map({'linguistics':1,'languagelearning':0})"
   ]
  },
  {
   "cell_type": "markdown",
   "metadata": {},
   "source": [
    "### EDA"
   ]
  },
  {
   "cell_type": "code",
   "execution_count": 156,
   "metadata": {},
   "outputs": [
    {
     "data": {
      "text/plain": [
       "<Figure size 432x288 with 0 Axes>"
      ]
     },
     "metadata": {},
     "output_type": "display_data"
    },
    {
     "data": {
      "image/png": "[encoded data removed]",
      "text/plain": [
       "<Figure size 595.625x540 with 12 Axes>"
      ]
     },
     "metadata": {
      "needs_background": "light"
     },
     "output_type": "display_data"
    }
   ],
   "source": [
    "plt.figure();\n",
    "sns.pairplot(df, x_vars=['created_utc','num_comments','score'],\n",
    "             y_vars=['created_utc','num_comments','score'],\n",
    "             hue='subreddit'\n",
    "            );"
   ]
  },
  {
   "cell_type": "code",
   "execution_count": 148,
   "metadata": {},
   "outputs": [
    {
     "data": {
      "image/png": "[encoded data removed]",
      "text/plain": [
       "<Figure size 648x468 with 2 Axes>"
      ]
     },
     "metadata": {
      "needs_background": "light"
     },
     "output_type": "display_data"
    }
   ],
   "source": [
    "plt.figure(figsize=(9,6.5))\n",
    "sns.heatmap(df.corr(), annot=True, cmap='viridis');\n",
    "plt.title('Correlations of Numeric Variables');"
   ]
  },
  {
   "cell_type": "markdown",
   "metadata": {},
   "source": [
    "#### Variable Assignment and Train Test Split"
   ]
  },
  {
   "cell_type": "code",
   "execution_count": 12,
   "metadata": {},
   "outputs": [],
   "source": [
    "X = df['selftext']\n",
    "y = df['subreddit']\n",
    "X_train, X_test, y_train, y_test = train_test_split(X, y, random_state=42, stratify=y)"
   ]
  },
  {
   "cell_type": "markdown",
   "metadata": {},
   "source": [
    "### Initial Vectorizer\n",
    "To start, I decided to use a CountVectorizer to separate out the content of the posts for analysis because it is more easily interpretable."
   ]
  },
  {
   "cell_type": "code",
   "execution_count": 229,
   "metadata": {},
   "outputs": [],
   "source": [
    "vectorizer = CountVectorizer(analyzer = \"word\",\n",
    "                             max_features = 1000\n",
    "                            ) "
   ]
  },
  {
   "cell_type": "code",
   "execution_count": 230,
   "metadata": {},
   "outputs": [],
   "source": [
    "train_features = vectorizer.fit_transform(X_train)\n",
    "test_features = vectorizer.transform(X_test)\n",
    "train_features = train_features.toarray()\n",
    "test_features = test_features.toarray()"
   ]
  },
  {
   "cell_type": "markdown",
   "metadata": {},
   "source": [
    "#### Logistic Regression"
   ]
  },
  {
   "cell_type": "code",
   "execution_count": 231,
   "metadata": {},
   "outputs": [],
   "source": [
    "logreg = LogisticRegression()"
   ]
  },
  {
   "cell_type": "code",
   "execution_count": 232,
   "metadata": {},
   "outputs": [
    {
     "name": "stderr",
     "output_type": "stream",
     "text": [
      "/anaconda3/lib/python3.6/site-packages/sklearn/linear_model/logistic.py:433: FutureWarning: Default solver will be changed to 'lbfgs' in 0.22. Specify a solver to silence this warning.\n",
      "  FutureWarning)\n"
     ]
    },
    {
     "data": {
      "text/plain": [
       "LogisticRegression(C=1.0, class_weight=None, dual=False, fit_intercept=True,\n",
       "          intercept_scaling=1, max_iter=100, multi_class='warn',\n",
       "          n_jobs=None, penalty='l2', random_state=None, solver='warn',\n",
       "          tol=0.0001, verbose=0, warm_start=False)"
      ]
     },
     "execution_count": 232,
     "metadata": {},
     "output_type": "execute_result"
    }
   ],
   "source": [
    "logreg.fit(train_features, y_train)"
   ]
  },
  {
   "cell_type": "code",
   "execution_count": 233,
   "metadata": {},
   "outputs": [
    {
     "data": {
      "text/plain": [
       "0.9871541501976284"
      ]
     },
     "execution_count": 233,
     "metadata": {},
     "output_type": "execute_result"
    }
   ],
   "source": [
    "logreg.score(train_features, y_train)"
   ]
  },
  {
   "cell_type": "code",
   "execution_count": 234,
   "metadata": {},
   "outputs": [
    {
     "data": {
      "text/plain": [
       "0.8195266272189349"
      ]
     },
     "execution_count": 234,
     "metadata": {},
     "output_type": "execute_result"
    }
   ],
   "source": [
    "logreg.score(test_features, y_test)"
   ]
  },
  {
   "cell_type": "code",
   "execution_count": 235,
   "metadata": {
    "scrolled": true
   },
   "outputs": [],
   "source": [
    "pred_vlog = logreg.predict(test_features)"
   ]
  },
  {
   "cell_type": "code",
   "execution_count": 236,
   "metadata": {},
   "outputs": [
    {
     "data": {
      "text/plain": [
       "184"
      ]
     },
     "execution_count": 236,
     "metadata": {},
     "output_type": "execute_result"
    }
   ],
   "source": [
    "pred_vlog.sum()"
   ]
  },
  {
   "cell_type": "code",
   "execution_count": 237,
   "metadata": {},
   "outputs": [
    {
     "data": {
      "text/plain": [
       "array([[127,  34],\n",
       "       [ 27, 150]])"
      ]
     },
     "execution_count": 237,
     "metadata": {},
     "output_type": "execute_result"
    }
   ],
   "source": [
    "confusion_matrix(y_test, pred_vlog)"
   ]
  },
  {
   "cell_type": "code",
   "execution_count": 238,
   "metadata": {},
   "outputs": [
    {
     "data": {
      "image/png": "[encoded data removed]",
      "text/plain": [
       "<Figure size 432x288 with 2 Axes>"
      ]
     },
     "metadata": {
      "needs_background": "light"
     },
     "output_type": "display_data"
    }
   ],
   "source": [
    "sns.heatmap(confusion_matrix(y_test, pred_vlog), \n",
    "            annot=True, fmt='g', cmap='viridis', \n",
    "            xticklabels=['Predicted Neg','Predicted Pos'],\n",
    "            yticklabels=['True Neg','True Pos']\n",
    "           );\n",
    "plt.title('Confusion Matrix: CountVectorizer & Logistic Regression');"
   ]
  },
  {
   "cell_type": "markdown",
   "metadata": {},
   "source": [
    "#### Naive Bayes"
   ]
  },
  {
   "cell_type": "code",
   "execution_count": 239,
   "metadata": {},
   "outputs": [],
   "source": [
    "nb_vect = MultinomialNB()"
   ]
  },
  {
   "cell_type": "code",
   "execution_count": 240,
   "metadata": {},
   "outputs": [
    {
     "data": {
      "text/plain": [
       "MultinomialNB(alpha=1.0, class_prior=None, fit_prior=True)"
      ]
     },
     "execution_count": 240,
     "metadata": {},
     "output_type": "execute_result"
    }
   ],
   "source": [
    "nb_vect.fit(train_features, y_train)"
   ]
  },
  {
   "cell_type": "code",
   "execution_count": 241,
   "metadata": {},
   "outputs": [
    {
     "data": {
      "text/plain": [
       "0.8745059288537549"
      ]
     },
     "execution_count": 241,
     "metadata": {},
     "output_type": "execute_result"
    }
   ],
   "source": [
    "nb_vect.score(train_features, y_train)"
   ]
  },
  {
   "cell_type": "code",
   "execution_count": 242,
   "metadata": {},
   "outputs": [
    {
     "data": {
      "text/plain": [
       "0.849112426035503"
      ]
     },
     "execution_count": 242,
     "metadata": {},
     "output_type": "execute_result"
    }
   ],
   "source": [
    "nb_vect.score(test_features, y_test)"
   ]
  },
  {
   "cell_type": "code",
   "execution_count": 243,
   "metadata": {},
   "outputs": [],
   "source": [
    "nb_vect_preds = nb_vect.predict(test_features)"
   ]
  },
  {
   "cell_type": "code",
   "execution_count": 244,
   "metadata": {},
   "outputs": [
    {
     "data": {
      "text/plain": [
       "array([[134,  27],\n",
       "       [ 24, 153]])"
      ]
     },
     "execution_count": 244,
     "metadata": {},
     "output_type": "execute_result"
    }
   ],
   "source": [
    "confusion_matrix(y_test, nb_vect_preds)"
   ]
  },
  {
   "cell_type": "code",
   "execution_count": 245,
   "metadata": {},
   "outputs": [
    {
     "data": {
      "image/png": "[encoded data removed]",
      "text/plain": [
       "<Figure size 432x288 with 2 Axes>"
      ]
     },
     "metadata": {
      "needs_background": "light"
     },
     "output_type": "display_data"
    }
   ],
   "source": [
    "sns.heatmap(confusion_matrix(y_test, nb_vect_preds), \n",
    "            annot=True, fmt='g', cmap='viridis', \n",
    "            xticklabels=['Predicted Neg','Predicted Pos'],\n",
    "            yticklabels=['True Neg','True Pos']\n",
    "           );\n",
    "plt.title('Confusion Matrix: CountVectorizer & Naive Bayes');"
   ]
  },
  {
   "cell_type": "markdown",
   "metadata": {},
   "source": [
    "#### Coefficients and Words"
   ]
  },
  {
   "cell_type": "code",
   "execution_count": 246,
   "metadata": {},
   "outputs": [],
   "source": [
    "vocab = vectorizer.get_feature_names()\n",
    "coef_log  = logreg.coef_[0]\n",
    "coef_nb_vect = nb_vect.coef_[0]"
   ]
  },
  {
   "cell_type": "code",
   "execution_count": 247,
   "metadata": {},
   "outputs": [],
   "source": [
    "word_coef = pd.DataFrame(columns= ['word','coef_log','coef_nb'])\n",
    "word_coef['word'] = vocab\n",
    "word_coef['coef_log'] = coef_log\n",
    "word_coef['coef_nb'] = coef_nb_vect"
   ]
  },
  {
   "cell_type": "code",
   "execution_count": 248,
   "metadata": {
    "scrolled": false
   },
   "outputs": [
    {
     "data": {
      "text/html": [
       "<div>\n",
       "<style scoped>\n",
       "    .dataframe tbody tr th:only-of-type {\n",
       "        vertical-align: middle;\n",
       "    }\n",
       "\n",
       "    .dataframe tbody tr th {\n",
       "        vertical-align: top;\n",
       "    }\n",
       "\n",
       "    .dataframe thead th {\n",
       "        text-align: right;\n",
       "    }\n",
       "</style>\n",
       "<table border=\"1\" class=\"dataframe\">\n",
       "  <thead>\n",
       "    <tr style=\"text-align: right;\">\n",
       "      <th></th>\n",
       "      <th>word</th>\n",
       "      <th>coef_log</th>\n",
       "      <th>coef_nb</th>\n",
       "    </tr>\n",
       "  </thead>\n",
       "  <tbody>\n",
       "    <tr>\n",
       "      <th>405</th>\n",
       "      <td>improve</td>\n",
       "      <td>-0.754883</td>\n",
       "      <td>-9.213959</td>\n",
       "    </tr>\n",
       "    <tr>\n",
       "      <th>458</th>\n",
       "      <td>learned</td>\n",
       "      <td>-0.757520</td>\n",
       "      <td>-7.892203</td>\n",
       "    </tr>\n",
       "    <tr>\n",
       "      <th>360</th>\n",
       "      <td>happy</td>\n",
       "      <td>-0.757603</td>\n",
       "      <td>-8.202358</td>\n",
       "    </tr>\n",
       "    <tr>\n",
       "      <th>239</th>\n",
       "      <td>each</td>\n",
       "      <td>-0.774650</td>\n",
       "      <td>-7.166266</td>\n",
       "    </tr>\n",
       "    <tr>\n",
       "      <th>185</th>\n",
       "      <td>countries</td>\n",
       "      <td>-0.779477</td>\n",
       "      <td>-8.520812</td>\n",
       "    </tr>\n",
       "    <tr>\n",
       "      <th>2</th>\n",
       "      <td>10</td>\n",
       "      <td>-0.785569</td>\n",
       "      <td>-8.520812</td>\n",
       "    </tr>\n",
       "    <tr>\n",
       "      <th>36</th>\n",
       "      <td>already</td>\n",
       "      <td>-0.789205</td>\n",
       "      <td>-8.035304</td>\n",
       "    </tr>\n",
       "    <tr>\n",
       "      <th>241</th>\n",
       "      <td>easier</td>\n",
       "      <td>-0.789978</td>\n",
       "      <td>-8.520812</td>\n",
       "    </tr>\n",
       "    <tr>\n",
       "      <th>457</th>\n",
       "      <td>learn</td>\n",
       "      <td>-0.825139</td>\n",
       "      <td>-6.688230</td>\n",
       "    </tr>\n",
       "    <tr>\n",
       "      <th>597</th>\n",
       "      <td>order</td>\n",
       "      <td>-0.847582</td>\n",
       "      <td>-7.268049</td>\n",
       "    </tr>\n",
       "    <tr>\n",
       "      <th>866</th>\n",
       "      <td>tips</td>\n",
       "      <td>-0.872227</td>\n",
       "      <td>-9.501641</td>\n",
       "    </tr>\n",
       "    <tr>\n",
       "      <th>650</th>\n",
       "      <td>practice</td>\n",
       "      <td>-0.883569</td>\n",
       "      <td>-9.213959</td>\n",
       "    </tr>\n",
       "    <tr>\n",
       "      <th>52</th>\n",
       "      <td>another</td>\n",
       "      <td>-0.915332</td>\n",
       "      <td>-7.304416</td>\n",
       "    </tr>\n",
       "    <tr>\n",
       "      <th>470</th>\n",
       "      <td>level</td>\n",
       "      <td>-0.945847</td>\n",
       "      <td>-7.103746</td>\n",
       "    </tr>\n",
       "    <tr>\n",
       "      <th>576</th>\n",
       "      <td>now</td>\n",
       "      <td>-0.955422</td>\n",
       "      <td>-6.649009</td>\n",
       "    </tr>\n",
       "    <tr>\n",
       "      <th>448</th>\n",
       "      <td>la</td>\n",
       "      <td>-0.977578</td>\n",
       "      <td>-8.808494</td>\n",
       "    </tr>\n",
       "    <tr>\n",
       "      <th>105</th>\n",
       "      <td>best</td>\n",
       "      <td>-1.006394</td>\n",
       "      <td>-7.827664</td>\n",
       "    </tr>\n",
       "    <tr>\n",
       "      <th>236</th>\n",
       "      <td>duolingo</td>\n",
       "      <td>-1.317092</td>\n",
       "      <td>-9.907106</td>\n",
       "    </tr>\n",
       "    <tr>\n",
       "      <th>461</th>\n",
       "      <td>learning</td>\n",
       "      <td>-1.669505</td>\n",
       "      <td>-6.750106</td>\n",
       "    </tr>\n",
       "    <tr>\n",
       "      <th>695</th>\n",
       "      <td>removed</td>\n",
       "      <td>-1.996544</td>\n",
       "      <td>-8.654343</td>\n",
       "    </tr>\n",
       "  </tbody>\n",
       "</table>\n",
       "</div>"
      ],
      "text/plain": [
       "          word  coef_log   coef_nb\n",
       "405    improve -0.754883 -9.213959\n",
       "458    learned -0.757520 -7.892203\n",
       "360      happy -0.757603 -8.202358\n",
       "239       each -0.774650 -7.166266\n",
       "185  countries -0.779477 -8.520812\n",
       "2           10 -0.785569 -8.520812\n",
       "36     already -0.789205 -8.035304\n",
       "241     easier -0.789978 -8.520812\n",
       "457      learn -0.825139 -6.688230\n",
       "597      order -0.847582 -7.268049\n",
       "866       tips -0.872227 -9.501641\n",
       "650   practice -0.883569 -9.213959\n",
       "52     another -0.915332 -7.304416\n",
       "470      level -0.945847 -7.103746\n",
       "576        now -0.955422 -6.649009\n",
       "448         la -0.977578 -8.808494\n",
       "105       best -1.006394 -7.827664\n",
       "236   duolingo -1.317092 -9.907106\n",
       "461   learning -1.669505 -6.750106\n",
       "695    removed -1.996544 -8.654343"
      ]
     },
     "execution_count": 248,
     "metadata": {},
     "output_type": "execute_result"
    }
   ],
   "source": [
    "word_coef.sort_values('coef_log', ascending=False).tail(20)"
   ]
  },
  {
   "cell_type": "code",
   "execution_count": 249,
   "metadata": {},
   "outputs": [
    {
     "data": {
      "text/html": [
       "<div>\n",
       "<style scoped>\n",
       "    .dataframe tbody tr th:only-of-type {\n",
       "        vertical-align: middle;\n",
       "    }\n",
       "\n",
       "    .dataframe tbody tr th {\n",
       "        vertical-align: top;\n",
       "    }\n",
       "\n",
       "    .dataframe thead th {\n",
       "        text-align: right;\n",
       "    }\n",
       "</style>\n",
       "<table border=\"1\" class=\"dataframe\">\n",
       "  <thead>\n",
       "    <tr style=\"text-align: right;\">\n",
       "      <th></th>\n",
       "      <th>word</th>\n",
       "      <th>coef_log</th>\n",
       "      <th>coef_nb</th>\n",
       "    </tr>\n",
       "  </thead>\n",
       "  <tbody>\n",
       "    <tr>\n",
       "      <th>477</th>\n",
       "      <td>linguistics</td>\n",
       "      <td>2.058772</td>\n",
       "      <td>-5.709904</td>\n",
       "    </tr>\n",
       "    <tr>\n",
       "      <th>423</th>\n",
       "      <td>ipa</td>\n",
       "      <td>0.947227</td>\n",
       "      <td>-7.464759</td>\n",
       "    </tr>\n",
       "    <tr>\n",
       "      <th>189</th>\n",
       "      <td>create</td>\n",
       "      <td>0.839364</td>\n",
       "      <td>-7.767040</td>\n",
       "    </tr>\n",
       "    <tr>\n",
       "      <th>150</th>\n",
       "      <td>come</td>\n",
       "      <td>0.822442</td>\n",
       "      <td>-6.936692</td>\n",
       "    </tr>\n",
       "    <tr>\n",
       "      <th>130</th>\n",
       "      <td>change</td>\n",
       "      <td>0.814166</td>\n",
       "      <td>-7.166266</td>\n",
       "    </tr>\n",
       "    <tr>\n",
       "      <th>323</th>\n",
       "      <td>general</td>\n",
       "      <td>0.794598</td>\n",
       "      <td>-6.771612</td>\n",
       "    </tr>\n",
       "    <tr>\n",
       "      <th>274</th>\n",
       "      <td>explain</td>\n",
       "      <td>0.791427</td>\n",
       "      <td>-7.655814</td>\n",
       "    </tr>\n",
       "    <tr>\n",
       "      <th>706</th>\n",
       "      <td>say</td>\n",
       "      <td>0.788320</td>\n",
       "      <td>-5.936814</td>\n",
       "    </tr>\n",
       "    <tr>\n",
       "      <th>733</th>\n",
       "      <td>short</td>\n",
       "      <td>0.788292</td>\n",
       "      <td>-7.199056</td>\n",
       "    </tr>\n",
       "    <tr>\n",
       "      <th>476</th>\n",
       "      <td>linguistic</td>\n",
       "      <td>0.787974</td>\n",
       "      <td>-7.304416</td>\n",
       "    </tr>\n",
       "    <tr>\n",
       "      <th>662</th>\n",
       "      <td>pronoun</td>\n",
       "      <td>0.781667</td>\n",
       "      <td>-8.202358</td>\n",
       "    </tr>\n",
       "    <tr>\n",
       "      <th>266</th>\n",
       "      <td>example</td>\n",
       "      <td>0.765217</td>\n",
       "      <td>-6.218227</td>\n",
       "    </tr>\n",
       "    <tr>\n",
       "      <th>680</th>\n",
       "      <td>reading</td>\n",
       "      <td>0.760800</td>\n",
       "      <td>-6.522716</td>\n",
       "    </tr>\n",
       "    <tr>\n",
       "      <th>169</th>\n",
       "      <td>considered</td>\n",
       "      <td>0.754080</td>\n",
       "      <td>-7.381377</td>\n",
       "    </tr>\n",
       "    <tr>\n",
       "      <th>843</th>\n",
       "      <td>their</td>\n",
       "      <td>0.751190</td>\n",
       "      <td>-6.205804</td>\n",
       "    </tr>\n",
       "    <tr>\n",
       "      <th>419</th>\n",
       "      <td>interesting</td>\n",
       "      <td>0.747936</td>\n",
       "      <td>-7.073893</td>\n",
       "    </tr>\n",
       "    <tr>\n",
       "      <th>813</th>\n",
       "      <td>syntax</td>\n",
       "      <td>0.730545</td>\n",
       "      <td>-7.509211</td>\n",
       "    </tr>\n",
       "    <tr>\n",
       "      <th>536</th>\n",
       "      <td>morphology</td>\n",
       "      <td>0.719680</td>\n",
       "      <td>-7.827664</td>\n",
       "    </tr>\n",
       "    <tr>\n",
       "      <th>691</th>\n",
       "      <td>related</td>\n",
       "      <td>0.718507</td>\n",
       "      <td>-6.911374</td>\n",
       "    </tr>\n",
       "    <tr>\n",
       "      <th>700</th>\n",
       "      <td>rules</td>\n",
       "      <td>0.716953</td>\n",
       "      <td>-7.103746</td>\n",
       "    </tr>\n",
       "  </tbody>\n",
       "</table>\n",
       "</div>"
      ],
      "text/plain": [
       "            word  coef_log   coef_nb\n",
       "477  linguistics  2.058772 -5.709904\n",
       "423          ipa  0.947227 -7.464759\n",
       "189       create  0.839364 -7.767040\n",
       "150         come  0.822442 -6.936692\n",
       "130       change  0.814166 -7.166266\n",
       "323      general  0.794598 -6.771612\n",
       "274      explain  0.791427 -7.655814\n",
       "706          say  0.788320 -5.936814\n",
       "733        short  0.788292 -7.199056\n",
       "476   linguistic  0.787974 -7.304416\n",
       "662      pronoun  0.781667 -8.202358\n",
       "266      example  0.765217 -6.218227\n",
       "680      reading  0.760800 -6.522716\n",
       "169   considered  0.754080 -7.381377\n",
       "843        their  0.751190 -6.205804\n",
       "419  interesting  0.747936 -7.073893\n",
       "813       syntax  0.730545 -7.509211\n",
       "536   morphology  0.719680 -7.827664\n",
       "691      related  0.718507 -6.911374\n",
       "700        rules  0.716953 -7.103746"
      ]
     },
     "execution_count": 249,
     "metadata": {},
     "output_type": "execute_result"
    }
   ],
   "source": [
    "word_coef.sort_values('coef_log', ascending=False).head(20)"
   ]
  },
  {
   "cell_type": "markdown",
   "metadata": {},
   "source": [
    "### TF_IDF"
   ]
  },
  {
   "cell_type": "code",
   "execution_count": 181,
   "metadata": {},
   "outputs": [],
   "source": [
    "tfidf = TfidfVectorizer(stop_words='english')"
   ]
  },
  {
   "cell_type": "code",
   "execution_count": 182,
   "metadata": {},
   "outputs": [],
   "source": [
    "train_tfidf = tfidf.fit_transform(X_train)\n",
    "test_tfidf = tfidf.transform(X_test)\n",
    "train_tfidf = train_tfidf.toarray()\n",
    "test_tfidf = test_tfidf.toarray()"
   ]
  },
  {
   "cell_type": "markdown",
   "metadata": {},
   "source": [
    "#### Logistic"
   ]
  },
  {
   "cell_type": "code",
   "execution_count": 183,
   "metadata": {},
   "outputs": [],
   "source": [
    "logreg_tfidf = LogisticRegression()"
   ]
  },
  {
   "cell_type": "code",
   "execution_count": 184,
   "metadata": {},
   "outputs": [
    {
     "name": "stderr",
     "output_type": "stream",
     "text": [
      "/anaconda3/lib/python3.6/site-packages/sklearn/linear_model/logistic.py:433: FutureWarning: Default solver will be changed to 'lbfgs' in 0.22. Specify a solver to silence this warning.\n",
      "  FutureWarning)\n"
     ]
    },
    {
     "data": {
      "text/plain": [
       "LogisticRegression(C=1.0, class_weight=None, dual=False, fit_intercept=True,\n",
       "          intercept_scaling=1, max_iter=100, multi_class='warn',\n",
       "          n_jobs=None, penalty='l2', random_state=None, solver='warn',\n",
       "          tol=0.0001, verbose=0, warm_start=False)"
      ]
     },
     "execution_count": 184,
     "metadata": {},
     "output_type": "execute_result"
    }
   ],
   "source": [
    "logreg_tfidf.fit(train_tfidf, y_train)"
   ]
  },
  {
   "cell_type": "code",
   "execution_count": 185,
   "metadata": {},
   "outputs": [
    {
     "data": {
      "text/plain": [
       "0.9446640316205533"
      ]
     },
     "execution_count": 185,
     "metadata": {},
     "output_type": "execute_result"
    }
   ],
   "source": [
    "logreg_tfidf.score(train_tfidf, y_train)"
   ]
  },
  {
   "cell_type": "code",
   "execution_count": 186,
   "metadata": {},
   "outputs": [
    {
     "data": {
      "text/plain": [
       "0.8579881656804734"
      ]
     },
     "execution_count": 186,
     "metadata": {},
     "output_type": "execute_result"
    }
   ],
   "source": [
    "logreg_tfidf.score(test_tfidf, y_test)"
   ]
  },
  {
   "cell_type": "code",
   "execution_count": 187,
   "metadata": {},
   "outputs": [],
   "source": [
    "log_tfidf_preds = logreg_tfidf.predict(test_tfidf)"
   ]
  },
  {
   "cell_type": "code",
   "execution_count": 188,
   "metadata": {},
   "outputs": [
    {
     "data": {
      "text/plain": [
       "array([[124,  37],\n",
       "       [ 11, 166]])"
      ]
     },
     "execution_count": 188,
     "metadata": {},
     "output_type": "execute_result"
    }
   ],
   "source": [
    "confusion_matrix(y_test, log_tfidf_preds)"
   ]
  },
  {
   "cell_type": "code",
   "execution_count": 189,
   "metadata": {},
   "outputs": [
    {
     "data": {
      "image/png": "[encoded data removed]",
      "text/plain": [
       "<Figure size 432x288 with 2 Axes>"
      ]
     },
     "metadata": {
      "needs_background": "light"
     },
     "output_type": "display_data"
    }
   ],
   "source": [
    "sns.heatmap(confusion_matrix(y_test, log_tfidf_preds), \n",
    "            annot=True, fmt='g', cmap='viridis', \n",
    "            xticklabels=['Predicted Neg','Predicted Pos'],\n",
    "            yticklabels=['True Neg','True Pos']\n",
    "           );\n",
    "plt.title('Confusion Matrix: TF-IDF & Logistic Regression');"
   ]
  },
  {
   "cell_type": "markdown",
   "metadata": {},
   "source": [
    "#### Naive Bayes"
   ]
  },
  {
   "cell_type": "code",
   "execution_count": 190,
   "metadata": {},
   "outputs": [],
   "source": [
    "nb_tfidf = MultinomialNB()"
   ]
  },
  {
   "cell_type": "code",
   "execution_count": 191,
   "metadata": {},
   "outputs": [
    {
     "data": {
      "text/plain": [
       "MultinomialNB(alpha=1.0, class_prior=None, fit_prior=True)"
      ]
     },
     "execution_count": 191,
     "metadata": {},
     "output_type": "execute_result"
    }
   ],
   "source": [
    "nb_tfidf.fit(train_tfidf, y_train)"
   ]
  },
  {
   "cell_type": "code",
   "execution_count": 192,
   "metadata": {},
   "outputs": [
    {
     "data": {
      "text/plain": [
       "0.967391304347826"
      ]
     },
     "execution_count": 192,
     "metadata": {},
     "output_type": "execute_result"
    }
   ],
   "source": [
    "nb_tfidf.score(train_tfidf, y_train)"
   ]
  },
  {
   "cell_type": "code",
   "execution_count": 193,
   "metadata": {},
   "outputs": [
    {
     "data": {
      "text/plain": [
       "0.8727810650887574"
      ]
     },
     "execution_count": 193,
     "metadata": {},
     "output_type": "execute_result"
    }
   ],
   "source": [
    "nb_tfidf.score(test_tfidf, y_test)"
   ]
  },
  {
   "cell_type": "code",
   "execution_count": 194,
   "metadata": {},
   "outputs": [],
   "source": [
    "nb_tfidf_preds = nb_tfidf.predict(test_tfidf)"
   ]
  },
  {
   "cell_type": "code",
   "execution_count": 195,
   "metadata": {},
   "outputs": [
    {
     "data": {
      "text/plain": [
       "array([[144,  17],\n",
       "       [ 26, 151]])"
      ]
     },
     "execution_count": 195,
     "metadata": {},
     "output_type": "execute_result"
    }
   ],
   "source": [
    "confusion_matrix(y_test, nb_tfidf_preds)"
   ]
  },
  {
   "cell_type": "code",
   "execution_count": 205,
   "metadata": {},
   "outputs": [
    {
     "data": {
      "image/png": "[encoded data removed]",
      "text/plain": [
       "<Figure size 648x504 with 2 Axes>"
      ]
     },
     "metadata": {
      "needs_background": "light"
     },
     "output_type": "display_data"
    }
   ],
   "source": [
    "plt.figure(figsize=(9,7))\n",
    "sns.heatmap(confusion_matrix(y_test, nb_tfidf_preds), \n",
    "            annot=True, fmt='g', cmap='viridis',\n",
    "            linewidths=0.5,\n",
    "            xticklabels=['Predicted Neg','Predicted Pos'],\n",
    "            yticklabels=['True Neg','True Pos']\n",
    "           );\n",
    "plt.title('Confusion Matrix: TF-IDF & Naïve Bayes');"
   ]
  },
  {
   "cell_type": "markdown",
   "metadata": {},
   "source": [
    "#### Coefficients and Words"
   ]
  },
  {
   "cell_type": "code",
   "execution_count": 197,
   "metadata": {},
   "outputs": [],
   "source": [
    "vocab_tfidf = tfidf.get_feature_names()\n",
    "coef_tfidf_log  = logreg_tfidf.coef_[0]\n",
    "coef_tfidf_nb = nb_tfidf.coef_[0]"
   ]
  },
  {
   "cell_type": "code",
   "execution_count": 198,
   "metadata": {},
   "outputs": [],
   "source": [
    "tfidf_coef = pd.DataFrame(columns= ['word','coef_log','coef_tfidf'])\n",
    "tfidf_coef['word'] = vocab_tfidf\n",
    "tfidf_coef['coef_log'] = coef_tfidf_log\n",
    "tfidf_coef['coef_tfidf'] = coef_tfidf_nb"
   ]
  },
  {
   "cell_type": "code",
   "execution_count": 199,
   "metadata": {},
   "outputs": [
    {
     "data": {
      "text/html": [
       "<div>\n",
       "<style scoped>\n",
       "    .dataframe tbody tr th:only-of-type {\n",
       "        vertical-align: middle;\n",
       "    }\n",
       "\n",
       "    .dataframe tbody tr th {\n",
       "        vertical-align: top;\n",
       "    }\n",
       "\n",
       "    .dataframe thead th {\n",
       "        text-align: right;\n",
       "    }\n",
       "</style>\n",
       "<table border=\"1\" class=\"dataframe\">\n",
       "  <thead>\n",
       "    <tr style=\"text-align: right;\">\n",
       "      <th></th>\n",
       "      <th>word</th>\n",
       "      <th>coef_log</th>\n",
       "      <th>coef_tfidf</th>\n",
       "    </tr>\n",
       "  </thead>\n",
       "  <tbody>\n",
       "    <tr>\n",
       "      <th>4643</th>\n",
       "      <td>languages</td>\n",
       "      <td>1.202318</td>\n",
       "      <td>-6.534865</td>\n",
       "    </tr>\n",
       "    <tr>\n",
       "      <th>2855</th>\n",
       "      <td>english</td>\n",
       "      <td>0.833954</td>\n",
       "      <td>-6.562000</td>\n",
       "    </tr>\n",
       "    <tr>\n",
       "      <th>4641</th>\n",
       "      <td>language</td>\n",
       "      <td>-1.586665</td>\n",
       "      <td>-6.590959</td>\n",
       "    </tr>\n",
       "    <tr>\n",
       "      <th>4771</th>\n",
       "      <td>like</td>\n",
       "      <td>-0.735527</td>\n",
       "      <td>-6.772883</td>\n",
       "    </tr>\n",
       "    <tr>\n",
       "      <th>4573</th>\n",
       "      <td>know</td>\n",
       "      <td>-0.501561</td>\n",
       "      <td>-6.881333</td>\n",
       "    </tr>\n",
       "    <tr>\n",
       "      <th>8536</th>\n",
       "      <td>ve</td>\n",
       "      <td>-0.732965</td>\n",
       "      <td>-6.930078</td>\n",
       "    </tr>\n",
       "    <tr>\n",
       "      <th>750</th>\n",
       "      <td>amp</td>\n",
       "      <td>-0.100400</td>\n",
       "      <td>-6.968504</td>\n",
       "    </tr>\n",
       "    <tr>\n",
       "      <th>8796</th>\n",
       "      <td>word</td>\n",
       "      <td>0.611174</td>\n",
       "      <td>-7.004619</td>\n",
       "    </tr>\n",
       "    <tr>\n",
       "      <th>4796</th>\n",
       "      <td>linguistics</td>\n",
       "      <td>2.237858</td>\n",
       "      <td>-7.023198</td>\n",
       "    </tr>\n",
       "    <tr>\n",
       "      <th>8798</th>\n",
       "      <td>words</td>\n",
       "      <td>0.484622</td>\n",
       "      <td>-7.045713</td>\n",
       "    </tr>\n",
       "  </tbody>\n",
       "</table>\n",
       "</div>"
      ],
      "text/plain": [
       "             word  coef_log  coef_tfidf\n",
       "4643    languages  1.202318   -6.534865\n",
       "2855      english  0.833954   -6.562000\n",
       "4641     language -1.586665   -6.590959\n",
       "4771         like -0.735527   -6.772883\n",
       "4573         know -0.501561   -6.881333\n",
       "8536           ve -0.732965   -6.930078\n",
       "750           amp -0.100400   -6.968504\n",
       "8796         word  0.611174   -7.004619\n",
       "4796  linguistics  2.237858   -7.023198\n",
       "8798        words  0.484622   -7.045713"
      ]
     },
     "execution_count": 199,
     "metadata": {},
     "output_type": "execute_result"
    }
   ],
   "source": [
    "tfidf_coef.sort_values('coef_tfidf', ascending=False).head(10)"
   ]
  },
  {
   "cell_type": "code",
   "execution_count": 200,
   "metadata": {},
   "outputs": [
    {
     "data": {
      "text/html": [
       "<div>\n",
       "<style scoped>\n",
       "    .dataframe tbody tr th:only-of-type {\n",
       "        vertical-align: middle;\n",
       "    }\n",
       "\n",
       "    .dataframe tbody tr th {\n",
       "        vertical-align: top;\n",
       "    }\n",
       "\n",
       "    .dataframe thead th {\n",
       "        text-align: right;\n",
       "    }\n",
       "</style>\n",
       "<table border=\"1\" class=\"dataframe\">\n",
       "  <thead>\n",
       "    <tr style=\"text-align: right;\">\n",
       "      <th></th>\n",
       "      <th>word</th>\n",
       "      <th>coef_log</th>\n",
       "      <th>coef_tfidf</th>\n",
       "    </tr>\n",
       "  </thead>\n",
       "  <tbody>\n",
       "    <tr>\n",
       "      <th>4218</th>\n",
       "      <td>initially</td>\n",
       "      <td>-0.005377</td>\n",
       "      <td>-9.363585</td>\n",
       "    </tr>\n",
       "    <tr>\n",
       "      <th>4209</th>\n",
       "      <td>infrequent</td>\n",
       "      <td>-0.022227</td>\n",
       "      <td>-9.363585</td>\n",
       "    </tr>\n",
       "    <tr>\n",
       "      <th>4170</th>\n",
       "      <td>indispensables</td>\n",
       "      <td>-0.030626</td>\n",
       "      <td>-9.363585</td>\n",
       "    </tr>\n",
       "    <tr>\n",
       "      <th>4190</th>\n",
       "      <td>infinite</td>\n",
       "      <td>-0.002222</td>\n",
       "      <td>-9.363585</td>\n",
       "    </tr>\n",
       "    <tr>\n",
       "      <th>4189</th>\n",
       "      <td>inferred</td>\n",
       "      <td>-0.029805</td>\n",
       "      <td>-9.363585</td>\n",
       "    </tr>\n",
       "    <tr>\n",
       "      <th>4188</th>\n",
       "      <td>inferior</td>\n",
       "      <td>-0.008537</td>\n",
       "      <td>-9.363585</td>\n",
       "    </tr>\n",
       "    <tr>\n",
       "      <th>4181</th>\n",
       "      <td>ineffective</td>\n",
       "      <td>-0.095815</td>\n",
       "      <td>-9.363585</td>\n",
       "    </tr>\n",
       "    <tr>\n",
       "      <th>4180</th>\n",
       "      <td>ine</td>\n",
       "      <td>-0.002222</td>\n",
       "      <td>-9.363585</td>\n",
       "    </tr>\n",
       "    <tr>\n",
       "      <th>4179</th>\n",
       "      <td>industry</td>\n",
       "      <td>-0.008537</td>\n",
       "      <td>-9.363585</td>\n",
       "    </tr>\n",
       "    <tr>\n",
       "      <th>9043</th>\n",
       "      <td>피망</td>\n",
       "      <td>-0.045533</td>\n",
       "      <td>-9.363585</td>\n",
       "    </tr>\n",
       "  </tbody>\n",
       "</table>\n",
       "</div>"
      ],
      "text/plain": [
       "                word  coef_log  coef_tfidf\n",
       "4218       initially -0.005377   -9.363585\n",
       "4209      infrequent -0.022227   -9.363585\n",
       "4170  indispensables -0.030626   -9.363585\n",
       "4190        infinite -0.002222   -9.363585\n",
       "4189        inferred -0.029805   -9.363585\n",
       "4188        inferior -0.008537   -9.363585\n",
       "4181     ineffective -0.095815   -9.363585\n",
       "4180             ine -0.002222   -9.363585\n",
       "4179        industry -0.008537   -9.363585\n",
       "9043              피망 -0.045533   -9.363585"
      ]
     },
     "execution_count": 200,
     "metadata": {},
     "output_type": "execute_result"
    }
   ],
   "source": [
    "tfidf_coef.sort_values('coef_tfidf', ascending=False).tail(10)"
   ]
  },
  {
   "cell_type": "markdown",
   "metadata": {},
   "source": [
    "### Pipeline for GridSearch Optimization\n",
    "(Some code adapted from lesson 5.06)\n",
    "<br>GridSearch through various models and parameters did not find any improvement on the standard parameters for MultinomialNB and TfidfVectorizer with English stop words."
   ]
  },
  {
   "cell_type": "code",
   "execution_count": 171,
   "metadata": {},
   "outputs": [],
   "source": [
    "pipe_tfidf = Pipeline([\n",
    "    ('tfidf', TfidfVectorizer()),\n",
    "    ('nb', MultinomialNB())\n",
    "])"
   ]
  },
  {
   "cell_type": "code",
   "execution_count": 173,
   "metadata": {},
   "outputs": [
    {
     "name": "stdout",
     "output_type": "stream",
     "text": [
      "0.8409090909090909\n"
     ]
    },
    {
     "data": {
      "text/plain": [
       "{'tfidf__ngram_range': (1, 2), 'tfidf__stop_words': 'english'}"
      ]
     },
     "execution_count": 173,
     "metadata": {},
     "output_type": "execute_result"
    }
   ],
   "source": [
    "pipe_params = {\n",
    "    'tfidf__stop_words': [None, 'english'],\n",
    "    'tfidf__ngram_range':[(1,1),(1,2)],\n",
    "}\n",
    "gs = GridSearchCV(pipe_vectorizer, param_grid=pipe_params, cv=3)\n",
    "gs.fit(X_train, y_train);\n",
    "print(gs.best_score_)\n",
    "gs.best_params_"
   ]
  },
  {
   "cell_type": "markdown",
   "metadata": {},
   "source": [
    "### Results Visualization"
   ]
  },
  {
   "cell_type": "code",
   "execution_count": 134,
   "metadata": {},
   "outputs": [],
   "source": [
    "fpr, tpr, thresholds = roc_curve(y_test, nb_tfidf_probs['one'])"
   ]
  },
  {
   "cell_type": "code",
   "execution_count": 120,
   "metadata": {},
   "outputs": [],
   "source": [
    "nb_tfidf_probs = pd.DataFrame(nb_tfidf.predict_proba(test_tfidf), columns=['zero','one'])"
   ]
  },
  {
   "cell_type": "markdown",
   "metadata": {},
   "source": [
    "The following code was adapted from the Scikit-Learn [website](https://scikit-learn.org/stable/auto_examples/model_selection/plot_roc.html#sphx-glr-auto-examples-model-selection-plot-roc-py):"
   ]
  },
  {
   "cell_type": "code",
   "execution_count": 164,
   "metadata": {
    "scrolled": false
   },
   "outputs": [
    {
     "data": {
      "image/png": "[encoded data removed]",
      "text/plain": [
       "<Figure size 684x684 with 1 Axes>"
      ]
     },
     "metadata": {
      "needs_background": "light"
     },
     "output_type": "display_data"
    }
   ],
   "source": [
    "# Code adapted form \n",
    "plt.figure(figsize=(9.5,9.5))\n",
    "lw = 2\n",
    "plt.plot(fpr, tpr, color='navy',\n",
    "         lw=lw, label='ROC curve')\n",
    "plt.plot([0, 1], [0, 1], color='red', lw=lw, linestyle='--')\n",
    "plt.xlim([0.0, 1.05])\n",
    "plt.ylim([0.0, 1.05])\n",
    "plt.xlabel('1 - Specificity')\n",
    "plt.ylabel('Sensitivity')\n",
    "plt.title('Receiver Operating Characteristic \\n')\n",
    "plt.legend(loc=\"lower right\")\n",
    "plt.show()"
   ]
  },
  {
   "cell_type": "markdown",
   "metadata": {},
   "source": [
    "### BONUS: Constructed Languages "
   ]
  },
  {
   "cell_type": "markdown",
   "metadata": {},
   "source": [
    "**The following cell only needed to be run one time afterwhich the data were imported from a csv file:**"
   ]
  },
  {
   "cell_type": "code",
   "execution_count": 68,
   "metadata": {},
   "outputs": [],
   "source": [
    "subreddit = 'conlangs'\n",
    "posts = 1000\n",
    "headers = {'user-micah':'my-user-micah'}\n",
    "url = \"https://api.pushshift.io/reddit/search/submission/?subreddit=\"+subreddit+\"&size=\"+str(posts)\n",
    "res = requests.get(url,headers=headers)\n",
    "df_conlangs = pd.DataFrame(res.json()['data'])\n",
    "df.to_csv('{}_'.format(subreddit)+str(datetime.datetime.now()))"
   ]
  },
  {
   "cell_type": "code",
   "execution_count": 55,
   "metadata": {},
   "outputs": [],
   "source": [
    "# df_conlangs = pd.read_csv('conlangs_2019-04-07 19:49:40.224265')"
   ]
  },
  {
   "cell_type": "code",
   "execution_count": 69,
   "metadata": {},
   "outputs": [],
   "source": [
    "df_conlangs.drop(df_conlangs.columns.difference(key_columns), 1, inplace=True)"
   ]
  },
  {
   "cell_type": "code",
   "execution_count": 70,
   "metadata": {},
   "outputs": [
    {
     "data": {
      "text/plain": [
       "author          0\n",
       "created_utc     0\n",
       "num_comments    0\n",
       "permalink       0\n",
       "score           0\n",
       "selftext        1\n",
       "subreddit       0\n",
       "title           0\n",
       "dtype: int64"
      ]
     },
     "execution_count": 70,
     "metadata": {},
     "output_type": "execute_result"
    }
   ],
   "source": [
    "df_conlangs.isnull().sum()"
   ]
  },
  {
   "cell_type": "code",
   "execution_count": 71,
   "metadata": {},
   "outputs": [],
   "source": [
    "df_conlangs.dropna(inplace=True)"
   ]
  },
  {
   "cell_type": "code",
   "execution_count": 72,
   "metadata": {},
   "outputs": [],
   "source": [
    "X_con = df_conlangs['selftext']"
   ]
  },
  {
   "cell_type": "code",
   "execution_count": 73,
   "metadata": {},
   "outputs": [],
   "source": [
    "X_con_vect = vectorizer.transform(X_con)\n",
    "X_con_vect = X_con_vect.toarray()"
   ]
  },
  {
   "cell_type": "code",
   "execution_count": 74,
   "metadata": {},
   "outputs": [
    {
     "data": {
      "text/plain": [
       "0.6786786786786787"
      ]
     },
     "execution_count": 74,
     "metadata": {},
     "output_type": "execute_result"
    }
   ],
   "source": [
    "con_log_vect_preds = logreg.predict(X_con_vect)\n",
    "con_log_vect_preds.mean()"
   ]
  },
  {
   "cell_type": "code",
   "execution_count": 75,
   "metadata": {},
   "outputs": [
    {
     "data": {
      "text/plain": [
       "0.7127127127127127"
      ]
     },
     "execution_count": 75,
     "metadata": {},
     "output_type": "execute_result"
    }
   ],
   "source": [
    "con_nb_vect_preds = nb_vect.predict(X_con_vect)\n",
    "con_nb_vect_preds.mean()"
   ]
  },
  {
   "cell_type": "code",
   "execution_count": 76,
   "metadata": {},
   "outputs": [],
   "source": [
    "X_con_tfidf = tfidf.transform(X_con)\n",
    "X_con_tfidf = X_con_tfidf.toarray()"
   ]
  },
  {
   "cell_type": "code",
   "execution_count": 77,
   "metadata": {},
   "outputs": [
    {
     "data": {
      "text/plain": [
       "0.7787787787787788"
      ]
     },
     "execution_count": 77,
     "metadata": {},
     "output_type": "execute_result"
    }
   ],
   "source": [
    "con_log_preds = logreg_tfidf.predict(X_con_tfidf)\n",
    "con_log_preds.mean()"
   ]
  },
  {
   "cell_type": "code",
   "execution_count": 78,
   "metadata": {},
   "outputs": [
    {
     "data": {
      "text/plain": [
       "0.7647647647647647"
      ]
     },
     "execution_count": 78,
     "metadata": {},
     "output_type": "execute_result"
    }
   ],
   "source": [
    "con_nb_tfidf_preds = nb_tfidf.predict(X_con_tfidf)\n",
    "con_nb_tfidf_preds.mean()"
   ]
  },
  {
   "cell_type": "code",
   "execution_count": null,
   "metadata": {},
   "outputs": [],
   "source": []
  }
 ],
 "metadata": {
  "kernelspec": {
   "display_name": "Python 3",
   "language": "python",
   "name": "python3"
  },
  "language_info": {
   "codemirror_mode": {
    "name": "ipython",
    "version": 3
   },
   "file_extension": ".py",
   "mimetype": "text/x-python",
   "name": "python",
   "nbconvert_exporter": "python",
   "pygments_lexer": "ipython3",
   "version": "3.6.8"
  }
 },
 "nbformat": 4,
 "nbformat_minor": 2
}
