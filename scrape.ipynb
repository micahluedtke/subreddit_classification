{
 "cells": [
  {
   "cell_type": "code",
   "execution_count": 3,
   "metadata": {},
   "outputs": [],
   "source": [
    "import requests\n",
    "import time\n",
    "import pandas as pd"
   ]
  },
  {
   "cell_type": "markdown",
   "metadata": {},
   "source": [
    "## Exploring JSON"
   ]
  },
  {
   "cell_type": "code",
   "execution_count": 8,
   "metadata": {},
   "outputs": [],
   "source": [
    "url = 'https://www.reddit.com/r/linguistics.json'"
   ]
  },
  {
   "cell_type": "code",
   "execution_count": 9,
   "metadata": {},
   "outputs": [],
   "source": [
    "headers = {'User-agent':'Micah'}"
   ]
  },
  {
   "cell_type": "code",
   "execution_count": 10,
   "metadata": {},
   "outputs": [],
   "source": [
    "res = requests.get(url, headers=headers)"
   ]
  },
  {
   "cell_type": "code",
   "execution_count": 11,
   "metadata": {},
   "outputs": [
    {
     "data": {
      "text/plain": [
       "200"
      ]
     },
     "execution_count": 11,
     "metadata": {},
     "output_type": "execute_result"
    }
   ],
   "source": [
    "res.status_code"
   ]
  },
  {
   "cell_type": "code",
   "execution_count": 12,
   "metadata": {},
   "outputs": [],
   "source": [
    "the_json = res.json()"
   ]
  },
  {
   "cell_type": "code",
   "execution_count": 13,
   "metadata": {},
   "outputs": [
    {
     "data": {
      "text/plain": [
       "dict_keys(['kind', 'data'])"
      ]
     },
     "execution_count": 13,
     "metadata": {},
     "output_type": "execute_result"
    }
   ],
   "source": [
    "the_json.keys()"
   ]
  },
  {
   "cell_type": "code",
   "execution_count": 14,
   "metadata": {},
   "outputs": [
    {
     "data": {
      "text/plain": [
       "dict_keys(['modhash', 'dist', 'children', 'after', 'before'])"
      ]
     },
     "execution_count": 14,
     "metadata": {},
     "output_type": "execute_result"
    }
   ],
   "source": [
    "the_json['data'].keys()"
   ]
  },
  {
   "cell_type": "code",
   "execution_count": 19,
   "metadata": {
    "scrolled": false
   },
   "outputs": [
    {
     "data": {
      "text/plain": [
       "'Hello all and welcome to another edition of Higher Ed Wednesday, an expansion of the Grad School Wednesday posts. This is a thread where prospective students can ask questions about university programs at any level, either general (e.g. \"How often should a grad student present at conferences?\") or particular (e.g. \"Which schools in North America have strong programs in Korean linguistics?). It\\'s also a chance for current students to find out information about other programs (e.g. \"How many of you have reading lists for your comprehensive exams?\") or general university survival (e.g. \"Is it a really bad idea to change my thesis supervisor if we don\\'t click?\"). So ask away!\\n'"
      ]
     },
     "execution_count": 19,
     "metadata": {},
     "output_type": "execute_result"
    }
   ],
   "source": [
    "the_json['data']['children'][1]['data']['selftext']"
   ]
  },
  {
   "cell_type": "markdown",
   "metadata": {},
   "source": [
    "## Using Pushshift.io"
   ]
  },
  {
   "cell_type": "code",
   "execution_count": 24,
   "metadata": {},
   "outputs": [],
   "source": [
    "#The following scraping code was adapted from code Paul shared:\n",
    "subreddit = 'linguistics'\n",
    "posts = 1000\n",
    "headers = {'user-micah':'my-user-micah'}\n",
    "url = \"https://api.pushshift.io/reddit/search/submission/?subreddit=\"+subreddit+\"&size=\"+str(posts)\n",
    "res = requests.get(url,headers=headers)\n",
    "df_linguistics = pd.DataFrame(res.json()['data'])"
   ]
  },
  {
   "cell_type": "code",
   "execution_count": 14,
   "metadata": {},
   "outputs": [],
   "source": [
    "subreddit = 'languagelearning'\n",
    "posts = 1000\n",
    "headers = {'user-micah':'my-user-micah'}\n",
    "url = \"https://api.pushshift.io/reddit/search/submission/?subreddit=\"+subreddit+\"&size=\"+str(posts)\n",
    "res = requests.get(url,headers=headers)\n",
    "df_languagelearning = pd.DataFrame(res.json()['data'])"
   ]
  },
  {
   "cell_type": "code",
   "execution_count": null,
   "metadata": {},
   "outputs": [],
   "source": []
  },
  {
   "cell_type": "code",
   "execution_count": 18,
   "metadata": {},
   "outputs": [
    {
     "data": {
      "text/html": [
       "<div>\n",
       "<style scoped>\n",
       "    .dataframe tbody tr th:only-of-type {\n",
       "        vertical-align: middle;\n",
       "    }\n",
       "\n",
       "    .dataframe tbody tr th {\n",
       "        vertical-align: top;\n",
       "    }\n",
       "\n",
       "    .dataframe thead th {\n",
       "        text-align: right;\n",
       "    }\n",
       "</style>\n",
       "<table border=\"1\" class=\"dataframe\">\n",
       "  <thead>\n",
       "    <tr style=\"text-align: right;\">\n",
       "      <th></th>\n",
       "      <th>author</th>\n",
       "      <th>author_cakeday</th>\n",
       "      <th>author_flair_background_color</th>\n",
       "      <th>author_flair_css_class</th>\n",
       "      <th>author_flair_richtext</th>\n",
       "      <th>author_flair_template_id</th>\n",
       "      <th>author_flair_text</th>\n",
       "      <th>author_flair_text_color</th>\n",
       "      <th>author_flair_type</th>\n",
       "      <th>author_fullname</th>\n",
       "      <th>...</th>\n",
       "      <th>subreddit_type</th>\n",
       "      <th>suggested_sort</th>\n",
       "      <th>thumbnail</th>\n",
       "      <th>thumbnail_height</th>\n",
       "      <th>thumbnail_width</th>\n",
       "      <th>title</th>\n",
       "      <th>updated_utc</th>\n",
       "      <th>url</th>\n",
       "      <th>whitelist_status</th>\n",
       "      <th>wls</th>\n",
       "    </tr>\n",
       "  </thead>\n",
       "  <tbody>\n",
       "    <tr>\n",
       "      <th>0</th>\n",
       "      <td>omgitsjustturtles</td>\n",
       "      <td>NaN</td>\n",
       "      <td>NaN</td>\n",
       "      <td>None</td>\n",
       "      <td>[]</td>\n",
       "      <td>NaN</td>\n",
       "      <td>None</td>\n",
       "      <td>NaN</td>\n",
       "      <td>text</td>\n",
       "      <td>t2_299gheh8</td>\n",
       "      <td>...</td>\n",
       "      <td>public</td>\n",
       "      <td>NaN</td>\n",
       "      <td>self</td>\n",
       "      <td>NaN</td>\n",
       "      <td>NaN</td>\n",
       "      <td>Language through immersion</td>\n",
       "      <td>NaN</td>\n",
       "      <td>https://www.reddit.com/r/languagelearning/comm...</td>\n",
       "      <td>all_ads</td>\n",
       "      <td>6</td>\n",
       "    </tr>\n",
       "    <tr>\n",
       "      <th>1</th>\n",
       "      <td>Jimral</td>\n",
       "      <td>NaN</td>\n",
       "      <td>NaN</td>\n",
       "      <td>None</td>\n",
       "      <td>[]</td>\n",
       "      <td>NaN</td>\n",
       "      <td>None</td>\n",
       "      <td>NaN</td>\n",
       "      <td>text</td>\n",
       "      <td>t2_2ljyaxnt</td>\n",
       "      <td>...</td>\n",
       "      <td>public</td>\n",
       "      <td>NaN</td>\n",
       "      <td>self</td>\n",
       "      <td>NaN</td>\n",
       "      <td>NaN</td>\n",
       "      <td>Hebrew audio coutrse</td>\n",
       "      <td>NaN</td>\n",
       "      <td>https://www.reddit.com/r/languagelearning/comm...</td>\n",
       "      <td>all_ads</td>\n",
       "      <td>6</td>\n",
       "    </tr>\n",
       "    <tr>\n",
       "      <th>2</th>\n",
       "      <td>aadrita__</td>\n",
       "      <td>NaN</td>\n",
       "      <td>NaN</td>\n",
       "      <td>None</td>\n",
       "      <td>[]</td>\n",
       "      <td>NaN</td>\n",
       "      <td>None</td>\n",
       "      <td>NaN</td>\n",
       "      <td>text</td>\n",
       "      <td>t2_2ad2bvh5</td>\n",
       "      <td>...</td>\n",
       "      <td>public</td>\n",
       "      <td>NaN</td>\n",
       "      <td>self</td>\n",
       "      <td>NaN</td>\n",
       "      <td>NaN</td>\n",
       "      <td>Name two languages that use the same alphabet</td>\n",
       "      <td>NaN</td>\n",
       "      <td>https://www.reddit.com/r/languagelearning/comm...</td>\n",
       "      <td>all_ads</td>\n",
       "      <td>6</td>\n",
       "    </tr>\n",
       "    <tr>\n",
       "      <th>3</th>\n",
       "      <td>redditnojam</td>\n",
       "      <td>NaN</td>\n",
       "      <td>NaN</td>\n",
       "      <td>None</td>\n",
       "      <td>[]</td>\n",
       "      <td>NaN</td>\n",
       "      <td>None</td>\n",
       "      <td>NaN</td>\n",
       "      <td>text</td>\n",
       "      <td>t2_15ycuv0g</td>\n",
       "      <td>...</td>\n",
       "      <td>public</td>\n",
       "      <td>NaN</td>\n",
       "      <td>self</td>\n",
       "      <td>NaN</td>\n",
       "      <td>NaN</td>\n",
       "      <td>Korean words borrowed from French</td>\n",
       "      <td>NaN</td>\n",
       "      <td>https://www.reddit.com/r/languagelearning/comm...</td>\n",
       "      <td>all_ads</td>\n",
       "      <td>6</td>\n",
       "    </tr>\n",
       "    <tr>\n",
       "      <th>4</th>\n",
       "      <td>CherryBlackEyes</td>\n",
       "      <td>NaN</td>\n",
       "      <td>NaN</td>\n",
       "      <td>None</td>\n",
       "      <td>[]</td>\n",
       "      <td>NaN</td>\n",
       "      <td>None</td>\n",
       "      <td>NaN</td>\n",
       "      <td>text</td>\n",
       "      <td>t2_1y3e8dr5</td>\n",
       "      <td>...</td>\n",
       "      <td>public</td>\n",
       "      <td>NaN</td>\n",
       "      <td>self</td>\n",
       "      <td>NaN</td>\n",
       "      <td>NaN</td>\n",
       "      <td>dash or comma?</td>\n",
       "      <td>NaN</td>\n",
       "      <td>https://www.reddit.com/r/languagelearning/comm...</td>\n",
       "      <td>all_ads</td>\n",
       "      <td>6</td>\n",
       "    </tr>\n",
       "  </tbody>\n",
       "</table>\n",
       "<p>5 rows × 72 columns</p>\n",
       "</div>"
      ],
      "text/plain": [
       "              author author_cakeday author_flair_background_color  \\\n",
       "0  omgitsjustturtles            NaN                           NaN   \n",
       "1             Jimral            NaN                           NaN   \n",
       "2          aadrita__            NaN                           NaN   \n",
       "3        redditnojam            NaN                           NaN   \n",
       "4    CherryBlackEyes            NaN                           NaN   \n",
       "\n",
       "  author_flair_css_class author_flair_richtext author_flair_template_id  \\\n",
       "0                   None                    []                      NaN   \n",
       "1                   None                    []                      NaN   \n",
       "2                   None                    []                      NaN   \n",
       "3                   None                    []                      NaN   \n",
       "4                   None                    []                      NaN   \n",
       "\n",
       "  author_flair_text author_flair_text_color author_flair_type author_fullname  \\\n",
       "0              None                     NaN              text     t2_299gheh8   \n",
       "1              None                     NaN              text     t2_2ljyaxnt   \n",
       "2              None                     NaN              text     t2_2ad2bvh5   \n",
       "3              None                     NaN              text     t2_15ycuv0g   \n",
       "4              None                     NaN              text     t2_1y3e8dr5   \n",
       "\n",
       "   ... subreddit_type suggested_sort  thumbnail  thumbnail_height  \\\n",
       "0  ...         public            NaN       self               NaN   \n",
       "1  ...         public            NaN       self               NaN   \n",
       "2  ...         public            NaN       self               NaN   \n",
       "3  ...         public            NaN       self               NaN   \n",
       "4  ...         public            NaN       self               NaN   \n",
       "\n",
       "   thumbnail_width                                          title updated_utc  \\\n",
       "0              NaN                     Language through immersion         NaN   \n",
       "1              NaN                           Hebrew audio coutrse         NaN   \n",
       "2              NaN  Name two languages that use the same alphabet         NaN   \n",
       "3              NaN              Korean words borrowed from French         NaN   \n",
       "4              NaN                                 dash or comma?         NaN   \n",
       "\n",
       "                                                 url whitelist_status  wls  \n",
       "0  https://www.reddit.com/r/languagelearning/comm...          all_ads    6  \n",
       "1  https://www.reddit.com/r/languagelearning/comm...          all_ads    6  \n",
       "2  https://www.reddit.com/r/languagelearning/comm...          all_ads    6  \n",
       "3  https://www.reddit.com/r/languagelearning/comm...          all_ads    6  \n",
       "4  https://www.reddit.com/r/languagelearning/comm...          all_ads    6  \n",
       "\n",
       "[5 rows x 72 columns]"
      ]
     },
     "execution_count": 18,
     "metadata": {},
     "output_type": "execute_result"
    }
   ],
   "source": [
    "df_languagelearning.head()"
   ]
  },
  {
   "cell_type": "code",
   "execution_count": 17,
   "metadata": {},
   "outputs": [
    {
     "data": {
      "text/plain": [
       "(1000, 68)"
      ]
     },
     "execution_count": 17,
     "metadata": {},
     "output_type": "execute_result"
    }
   ],
   "source": [
    "df_linguistics.shape"
   ]
  },
  {
   "cell_type": "code",
   "execution_count": null,
   "metadata": {},
   "outputs": [],
   "source": [
    "for i in range(4):\n",
    "    df_linguistics[f'filler{i}'] = i"
   ]
  },
  {
   "cell_type": "code",
   "execution_count": 5,
   "metadata": {},
   "outputs": [],
   "source": [
    "import datetime"
   ]
  },
  {
   "cell_type": "code",
   "execution_count": 70,
   "metadata": {},
   "outputs": [
    {
     "data": {
      "text/plain": [
       "<method 'timetuple' of 'datetime.datetime' objects>"
      ]
     },
     "execution_count": 70,
     "metadata": {},
     "output_type": "execute_result"
    }
   ],
   "source": [
    "datetime.datetime.now()"
   ]
  },
  {
   "cell_type": "code",
   "execution_count": 19,
   "metadata": {},
   "outputs": [],
   "source": [
    "#Function for pulling\n",
    "def pull_merge(subreddit_1, subreddit_2, posts=100):\n",
    "    '''Default for posts is 100, maximum request is 1000 posts'''\n",
    "    headers = {'user-micah':'my-user-micah'}\n",
    "    url_1 = \"https://api.pushshift.io/reddit/search/submission/?subreddit=\"+subreddit_1+\"&size=\"+str(posts)\n",
    "    url_2 = \"https://api.pushshift.io/reddit/search/submission/?subreddit=\"+subreddit_2+\"&size=\"+str(posts)\n",
    "    res_1 = requests.get(url_1,headers=headers)\n",
    "    res_2 = requests.get(url_2,headers=headers)\n",
    "    df_subreddit_1 = pd.DataFrame(res_1.json()['data'])\n",
    "    df_subreddit_2 = pd.DataFrame(res_2.json()['data'])\n",
    "    df = df_subreddit_2.append(df_subreddit_1, sort=False)\n",
    "    df.to_csv('{} and {}_'.format(subreddit_1,subreddit_2)+str(datetime.datetime.now()))"
   ]
  },
  {
   "cell_type": "code",
   "execution_count": 21,
   "metadata": {},
   "outputs": [],
   "source": [
    "pull_merge('linguistics','languagelearning', 1000)"
   ]
  },
  {
   "cell_type": "code",
   "execution_count": 9,
   "metadata": {},
   "outputs": [
    {
     "data": {
      "text/plain": [
       "(200, 65)"
      ]
     },
     "execution_count": 9,
     "metadata": {},
     "output_type": "execute_result"
    }
   ],
   "source": [
    "pd.read_csv('linguistics and languagelearning_2019-04-07 09:51:25.380099').shape"
   ]
  },
  {
   "cell_type": "code",
   "execution_count": 85,
   "metadata": {},
   "outputs": [
    {
     "name": "stdout",
     "output_type": "stream",
     "text": [
      "test and test2_2019-04-04 14:44:21.049866\n"
     ]
    }
   ],
   "source": [
    "#Test to work with time stamp saving\n",
    "subreddit_test1 = 'test'\n",
    "subreddit_test2 = 'test2'\n",
    "print('{} and {}_'.format(subreddit_test1,subreddit_test2)+str(datetime.datetime.now()))"
   ]
  },
  {
   "cell_type": "code",
   "execution_count": 86,
   "metadata": {},
   "outputs": [],
   "source": [
    "columns = pd.DataFrame({'lang':df_languagelearning.columns,'ling':df_linguistics.columns})"
   ]
  },
  {
   "cell_type": "code",
   "execution_count": 83,
   "metadata": {
    "scrolled": true
   },
   "outputs": [
    {
     "data": {
      "text/html": [
       "<div>\n",
       "<style scoped>\n",
       "    .dataframe tbody tr th:only-of-type {\n",
       "        vertical-align: middle;\n",
       "    }\n",
       "\n",
       "    .dataframe tbody tr th {\n",
       "        vertical-align: top;\n",
       "    }\n",
       "\n",
       "    .dataframe thead th {\n",
       "        text-align: right;\n",
       "    }\n",
       "</style>\n",
       "<table border=\"1\" class=\"dataframe\">\n",
       "  <thead>\n",
       "    <tr style=\"text-align: right;\">\n",
       "      <th></th>\n",
       "      <th>lang</th>\n",
       "      <th>ling</th>\n",
       "    </tr>\n",
       "  </thead>\n",
       "  <tbody>\n",
       "    <tr>\n",
       "      <th>0</th>\n",
       "      <td>author</td>\n",
       "      <td>author</td>\n",
       "    </tr>\n",
       "    <tr>\n",
       "      <th>1</th>\n",
       "      <td>author_cakeday</td>\n",
       "      <td>author_cakeday</td>\n",
       "    </tr>\n",
       "    <tr>\n",
       "      <th>2</th>\n",
       "      <td>author_flair_background_color</td>\n",
       "      <td>author_flair_background_color</td>\n",
       "    </tr>\n",
       "    <tr>\n",
       "      <th>3</th>\n",
       "      <td>author_flair_css_class</td>\n",
       "      <td>author_flair_css_class</td>\n",
       "    </tr>\n",
       "    <tr>\n",
       "      <th>4</th>\n",
       "      <td>author_flair_richtext</td>\n",
       "      <td>author_flair_richtext</td>\n",
       "    </tr>\n",
       "  </tbody>\n",
       "</table>\n",
       "</div>"
      ],
      "text/plain": [
       "                            lang                           ling\n",
       "0                         author                         author\n",
       "1                 author_cakeday                 author_cakeday\n",
       "2  author_flair_background_color  author_flair_background_color\n",
       "3         author_flair_css_class         author_flair_css_class\n",
       "4          author_flair_richtext          author_flair_richtext"
      ]
     },
     "execution_count": 83,
     "metadata": {},
     "output_type": "execute_result"
    }
   ],
   "source": [
    "columns.head()"
   ]
  },
  {
   "cell_type": "code",
   "execution_count": 59,
   "metadata": {},
   "outputs": [],
   "source": [
    "df = df_linguistics.append(df_languagelearning, sort=False)"
   ]
  }
 ],
 "metadata": {
  "kernelspec": {
   "display_name": "Python 3",
   "language": "python",
   "name": "python3"
  },
  "language_info": {
   "codemirror_mode": {
    "name": "ipython",
    "version": 3
   },
   "file_extension": ".py",
   "mimetype": "text/x-python",
   "name": "python",
   "nbconvert_exporter": "python",
   "pygments_lexer": "ipython3",
   "version": "3.6.8"
  }
 },
 "nbformat": 4,
 "nbformat_minor": 2
}
